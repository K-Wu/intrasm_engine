{
 "cells": [
  {
   "cell_type": "code",
   "execution_count": 1,
   "id": "cab91cfc",
   "metadata": {},
   "outputs": [],
   "source": [
    "# Adapted from https://le.qun.ch/en/blog/2023/05/13/transformer-batching/\n",
    "import itertools\n",
    "import numpy as np\n",
    "import pandas as pd\n",
    "import pickle\n",
    "import gzip\n",
    "%matplotlib inline\n",
    "%config InlineBackend.figure_format='retina'"
   ]
  },
  {
   "cell_type": "code",
   "execution_count": 2,
   "id": "02c9c9b1",
   "metadata": {},
   "outputs": [
    {
     "name": "stdout",
     "output_type": "stream",
     "text": [
      "Print handle to force cublas initialization (otherwise first matmul captured in the graph may fail): 190660736\n",
      "Setting float16 and bf16 using reduced precision in reduction\n"
     ]
    }
   ],
   "source": [
    "import torch\n",
    "torch.set_grad_enabled(False)\n",
    "import transformers\n",
    "from tqdm import tqdm\n",
    "import intrasm_engine\n",
    "from benchmark.utils_bench_transformer import gen_opt_cfg, benchmark_dense, benchmark_qk_ar, benchmark_qk_init, time_greedy_generate"
   ]
  },
  {
   "cell_type": "code",
   "execution_count": 3,
   "id": "a3a2103c",
   "metadata": {},
   "outputs": [],
   "source": [
    "optcfg = gen_opt_cfg()"
   ]
  },
  {
   "cell_type": "code",
   "execution_count": 4,
   "id": "3405fdc7",
   "metadata": {},
   "outputs": [],
   "source": [
    "#nd_list = list(itertools.chain(itertools.product([12, 16, 32], [64]), itertools.product([32, 40, 56, 72, 96], [128])))\n",
    "#seqlen_list = [10, 20, 50, 100, 200, 500, 1000, 2000, 5000]\n",
    "# Reducing the size to fit in RTX 3090 device memory\n",
    "nd_list = list(itertools.chain(itertools.product([12, 16, 32], [64]), itertools.product([32, 40, 56], [128])))\n",
    "seqlen_list = [10, 20, 50, 100, 200, 500, 1000]\n",
    "bs_list = list(itertools.chain(range(1, 8), range(8, 16, 2), range(16, 32, 4), range(32, 64, 8), range(64, 128, 16), [128]))"
   ]
  },
  {
   "cell_type": "code",
   "execution_count": 5,
   "id": "10dc981a",
   "metadata": {},
   "outputs": [
    {
     "name": "stdout",
     "output_type": "stream",
     "text": [
      "[(12, 64), (16, 64), (32, 64), (32, 128), (40, 128), (56, 128)]\n",
      "[10, 20, 50, 100, 200, 500, 1000]\n",
      "[1, 2, 3, 4, 5, 6, 7, 8, 10, 12, 14, 16, 20, 24, 28, 32, 40, 48, 56, 64, 80, 96, 112, 128]\n"
     ]
    }
   ],
   "source": [
    "print(nd_list)\n",
    "print(seqlen_list)\n",
    "print(bs_list)"
   ]
  },
  {
   "cell_type": "code",
   "execution_count": 6,
   "id": "3aaad98a",
   "metadata": {},
   "outputs": [],
   "source": [
    "data = {}"
   ]
  },
  {
   "cell_type": "code",
   "execution_count": 7,
   "id": "18137de3",
   "metadata": {},
   "outputs": [
    {
     "name": "stderr",
     "output_type": "stream",
     "text": [
      "  0%|          | 0/1008 [00:00<?, ?it/s, bs=128, d=128, h=7168, n=56, seqlen=1000]"
     ]
    },
    {
     "name": "stdout",
     "output_type": "stream",
     "text": [
      "Working on 56 128 1000\n"
     ]
    },
    {
     "name": "stderr",
     "output_type": "stream",
     "text": [
      "  2%|▏         | 24/1008 [00:48<32:51,  2.00s/it, bs=128, d=128, h=7168, n=56, seqlen=500]"
     ]
    },
    {
     "name": "stdout",
     "output_type": "stream",
     "text": [
      "Working on 56 128 500\n"
     ]
    },
    {
     "name": "stderr",
     "output_type": "stream",
     "text": [
      "  5%|▍         | 48/1008 [01:36<32:01,  2.00s/it, bs=128, d=128, h=7168, n=56, seqlen=200]"
     ]
    },
    {
     "name": "stdout",
     "output_type": "stream",
     "text": [
      "Working on 56 128 200\n"
     ]
    },
    {
     "name": "stderr",
     "output_type": "stream",
     "text": [
      "  7%|▋         | 72/1008 [02:24<31:13,  2.00s/it, bs=128, d=128, h=7168, n=56, seqlen=100]"
     ]
    },
    {
     "name": "stdout",
     "output_type": "stream",
     "text": [
      "Working on 56 128 100\n"
     ]
    },
    {
     "name": "stderr",
     "output_type": "stream",
     "text": [
      " 10%|▉         | 96/1008 [03:13<30:31,  2.01s/it, bs=128, d=128, h=7168, n=56, seqlen=50] "
     ]
    },
    {
     "name": "stdout",
     "output_type": "stream",
     "text": [
      "Working on 56 128 50\n"
     ]
    },
    {
     "name": "stderr",
     "output_type": "stream",
     "text": [
      " 12%|█▏        | 120/1008 [04:01<29:37,  2.00s/it, bs=128, d=128, h=7168, n=56, seqlen=20]"
     ]
    },
    {
     "name": "stdout",
     "output_type": "stream",
     "text": [
      "Working on 56 128 20\n"
     ]
    },
    {
     "name": "stderr",
     "output_type": "stream",
     "text": [
      " 14%|█▍        | 144/1008 [04:49<28:49,  2.00s/it, bs=128, d=128, h=7168, n=56, seqlen=10]"
     ]
    },
    {
     "name": "stdout",
     "output_type": "stream",
     "text": [
      "Working on 56 128 10\n"
     ]
    },
    {
     "name": "stderr",
     "output_type": "stream",
     "text": [
      " 17%|█▋        | 168/1008 [05:37<28:01,  2.00s/it, bs=128, d=128, h=5120, n=40, seqlen=1000]"
     ]
    },
    {
     "name": "stdout",
     "output_type": "stream",
     "text": [
      "Working on 40 128 1000\n"
     ]
    },
    {
     "name": "stderr",
     "output_type": "stream",
     "text": [
      " 19%|█▉        | 192/1008 [06:25<27:14,  2.00s/it, bs=128, d=128, h=5120, n=40, seqlen=500] "
     ]
    },
    {
     "name": "stdout",
     "output_type": "stream",
     "text": [
      "Working on 40 128 500\n"
     ]
    },
    {
     "name": "stderr",
     "output_type": "stream",
     "text": [
      " 21%|██▏       | 216/1008 [07:13<26:25,  2.00s/it, bs=128, d=128, h=5120, n=40, seqlen=200]"
     ]
    },
    {
     "name": "stdout",
     "output_type": "stream",
     "text": [
      "Working on 40 128 200\n"
     ]
    },
    {
     "name": "stderr",
     "output_type": "stream",
     "text": [
      " 24%|██▍       | 240/1008 [08:01<25:37,  2.00s/it, bs=128, d=128, h=5120, n=40, seqlen=100]"
     ]
    },
    {
     "name": "stdout",
     "output_type": "stream",
     "text": [
      "Working on 40 128 100\n"
     ]
    },
    {
     "name": "stderr",
     "output_type": "stream",
     "text": [
      " 26%|██▌       | 264/1008 [08:49<24:49,  2.00s/it, bs=128, d=128, h=5120, n=40, seqlen=50] "
     ]
    },
    {
     "name": "stdout",
     "output_type": "stream",
     "text": [
      "Working on 40 128 50\n"
     ]
    },
    {
     "name": "stderr",
     "output_type": "stream",
     "text": [
      " 29%|██▊       | 288/1008 [09:37<24:01,  2.00s/it, bs=128, d=128, h=5120, n=40, seqlen=20]"
     ]
    },
    {
     "name": "stdout",
     "output_type": "stream",
     "text": [
      "Working on 40 128 20\n"
     ]
    },
    {
     "name": "stderr",
     "output_type": "stream",
     "text": [
      " 31%|███       | 312/1008 [10:25<23:13,  2.00s/it, bs=128, d=128, h=5120, n=40, seqlen=10]"
     ]
    },
    {
     "name": "stdout",
     "output_type": "stream",
     "text": [
      "Working on 40 128 10\n"
     ]
    },
    {
     "name": "stderr",
     "output_type": "stream",
     "text": [
      " 33%|███▎      | 336/1008 [11:13<22:25,  2.00s/it, bs=128, d=128, h=4096, n=32, seqlen=1000]"
     ]
    },
    {
     "name": "stdout",
     "output_type": "stream",
     "text": [
      "Working on 32 128 1000\n"
     ]
    },
    {
     "name": "stderr",
     "output_type": "stream",
     "text": [
      " 36%|███▌      | 360/1008 [12:02<21:37,  2.00s/it, bs=128, d=128, h=4096, n=32, seqlen=500] "
     ]
    },
    {
     "name": "stdout",
     "output_type": "stream",
     "text": [
      "Working on 32 128 500\n"
     ]
    },
    {
     "name": "stderr",
     "output_type": "stream",
     "text": [
      " 38%|███▊      | 384/1008 [12:50<20:49,  2.00s/it, bs=128, d=128, h=4096, n=32, seqlen=200]"
     ]
    },
    {
     "name": "stdout",
     "output_type": "stream",
     "text": [
      "Working on 32 128 200\n"
     ]
    },
    {
     "name": "stderr",
     "output_type": "stream",
     "text": [
      " 40%|████      | 408/1008 [13:38<20:01,  2.00s/it, bs=128, d=128, h=4096, n=32, seqlen=100]"
     ]
    },
    {
     "name": "stdout",
     "output_type": "stream",
     "text": [
      "Working on 32 128 100\n"
     ]
    },
    {
     "name": "stderr",
     "output_type": "stream",
     "text": [
      " 43%|████▎     | 432/1008 [14:26<19:13,  2.00s/it, bs=128, d=128, h=4096, n=32, seqlen=50] "
     ]
    },
    {
     "name": "stdout",
     "output_type": "stream",
     "text": [
      "Working on 32 128 50\n"
     ]
    },
    {
     "name": "stderr",
     "output_type": "stream",
     "text": [
      " 45%|████▌     | 456/1008 [15:14<18:24,  2.00s/it, bs=128, d=128, h=4096, n=32, seqlen=20]"
     ]
    },
    {
     "name": "stdout",
     "output_type": "stream",
     "text": [
      "Working on 32 128 20\n"
     ]
    },
    {
     "name": "stderr",
     "output_type": "stream",
     "text": [
      " 48%|████▊     | 480/1008 [16:02<17:36,  2.00s/it, bs=128, d=128, h=4096, n=32, seqlen=10]"
     ]
    },
    {
     "name": "stdout",
     "output_type": "stream",
     "text": [
      "Working on 32 128 10\n"
     ]
    },
    {
     "name": "stderr",
     "output_type": "stream",
     "text": [
      " 50%|█████     | 504/1008 [16:50<16:48,  2.00s/it, bs=128, d=64, h=2048, n=32, seqlen=1000]"
     ]
    },
    {
     "name": "stdout",
     "output_type": "stream",
     "text": [
      "Working on 32 64 1000\n"
     ]
    },
    {
     "name": "stderr",
     "output_type": "stream",
     "text": [
      " 52%|█████▏    | 528/1008 [17:38<16:01,  2.00s/it, bs=128, d=64, h=2048, n=32, seqlen=500] "
     ]
    },
    {
     "name": "stdout",
     "output_type": "stream",
     "text": [
      "Working on 32 64 500\n"
     ]
    },
    {
     "name": "stderr",
     "output_type": "stream",
     "text": [
      " 55%|█████▍    | 552/1008 [18:26<15:12,  2.00s/it, bs=128, d=64, h=2048, n=32, seqlen=200]"
     ]
    },
    {
     "name": "stdout",
     "output_type": "stream",
     "text": [
      "Working on 32 64 200\n"
     ]
    },
    {
     "name": "stderr",
     "output_type": "stream",
     "text": [
      " 57%|█████▋    | 576/1008 [19:14<14:24,  2.00s/it, bs=128, d=64, h=2048, n=32, seqlen=100]"
     ]
    },
    {
     "name": "stdout",
     "output_type": "stream",
     "text": [
      "Working on 32 64 100\n"
     ]
    },
    {
     "name": "stderr",
     "output_type": "stream",
     "text": [
      " 60%|█████▉    | 600/1008 [20:02<13:36,  2.00s/it, bs=128, d=64, h=2048, n=32, seqlen=50] "
     ]
    },
    {
     "name": "stdout",
     "output_type": "stream",
     "text": [
      "Working on 32 64 50\n"
     ]
    },
    {
     "name": "stderr",
     "output_type": "stream",
     "text": [
      " 62%|██████▏   | 624/1008 [20:51<12:48,  2.00s/it, bs=128, d=64, h=2048, n=32, seqlen=20]"
     ]
    },
    {
     "name": "stdout",
     "output_type": "stream",
     "text": [
      "Working on 32 64 20\n"
     ]
    },
    {
     "name": "stderr",
     "output_type": "stream",
     "text": [
      " 64%|██████▍   | 648/1008 [21:39<12:00,  2.00s/it, bs=128, d=64, h=2048, n=32, seqlen=10]"
     ]
    },
    {
     "name": "stdout",
     "output_type": "stream",
     "text": [
      "Working on 32 64 10\n"
     ]
    },
    {
     "name": "stderr",
     "output_type": "stream",
     "text": [
      " 67%|██████▋   | 672/1008 [22:27<11:12,  2.00s/it, bs=128, d=64, h=1024, n=16, seqlen=1000]"
     ]
    },
    {
     "name": "stdout",
     "output_type": "stream",
     "text": [
      "Working on 16 64 1000\n"
     ]
    },
    {
     "name": "stderr",
     "output_type": "stream",
     "text": [
      " 69%|██████▉   | 696/1008 [23:15<10:24,  2.00s/it, bs=128, d=64, h=1024, n=16, seqlen=500] "
     ]
    },
    {
     "name": "stdout",
     "output_type": "stream",
     "text": [
      "Working on 16 64 500\n"
     ]
    },
    {
     "name": "stderr",
     "output_type": "stream",
     "text": [
      " 71%|███████▏  | 720/1008 [24:03<09:36,  2.00s/it, bs=128, d=64, h=1024, n=16, seqlen=200]"
     ]
    },
    {
     "name": "stdout",
     "output_type": "stream",
     "text": [
      "Working on 16 64 200\n"
     ]
    },
    {
     "name": "stderr",
     "output_type": "stream",
     "text": [
      " 74%|███████▍  | 744/1008 [24:51<08:48,  2.00s/it, bs=128, d=64, h=1024, n=16, seqlen=100]"
     ]
    },
    {
     "name": "stdout",
     "output_type": "stream",
     "text": [
      "Working on 16 64 100\n"
     ]
    },
    {
     "name": "stderr",
     "output_type": "stream",
     "text": [
      " 76%|███████▌  | 768/1008 [25:39<08:00,  2.00s/it, bs=128, d=64, h=1024, n=16, seqlen=50] "
     ]
    },
    {
     "name": "stdout",
     "output_type": "stream",
     "text": [
      "Working on 16 64 50\n"
     ]
    },
    {
     "name": "stderr",
     "output_type": "stream",
     "text": [
      " 79%|███████▊  | 792/1008 [26:27<07:12,  2.00s/it, bs=128, d=64, h=1024, n=16, seqlen=20]"
     ]
    },
    {
     "name": "stdout",
     "output_type": "stream",
     "text": [
      "Working on 16 64 20\n"
     ]
    },
    {
     "name": "stderr",
     "output_type": "stream",
     "text": [
      " 81%|████████  | 816/1008 [27:15<06:24,  2.00s/it, bs=128, d=64, h=1024, n=16, seqlen=10]"
     ]
    },
    {
     "name": "stdout",
     "output_type": "stream",
     "text": [
      "Working on 16 64 10\n"
     ]
    },
    {
     "name": "stderr",
     "output_type": "stream",
     "text": [
      " 83%|████████▎ | 840/1008 [28:03<05:36,  2.00s/it, bs=128, d=64, h=768, n=12, seqlen=1000]"
     ]
    },
    {
     "name": "stdout",
     "output_type": "stream",
     "text": [
      "Working on 12 64 1000\n"
     ]
    },
    {
     "name": "stderr",
     "output_type": "stream",
     "text": [
      " 86%|████████▌ | 864/1008 [28:51<04:48,  2.00s/it, bs=128, d=64, h=768, n=12, seqlen=500] "
     ]
    },
    {
     "name": "stdout",
     "output_type": "stream",
     "text": [
      "Working on 12 64 500\n"
     ]
    },
    {
     "name": "stderr",
     "output_type": "stream",
     "text": [
      " 88%|████████▊ | 888/1008 [29:39<04:00,  2.00s/it, bs=128, d=64, h=768, n=12, seqlen=200]"
     ]
    },
    {
     "name": "stdout",
     "output_type": "stream",
     "text": [
      "Working on 12 64 200\n"
     ]
    },
    {
     "name": "stderr",
     "output_type": "stream",
     "text": [
      " 90%|█████████ | 912/1008 [30:27<03:12,  2.00s/it, bs=128, d=64, h=768, n=12, seqlen=100]"
     ]
    },
    {
     "name": "stdout",
     "output_type": "stream",
     "text": [
      "Working on 12 64 100\n"
     ]
    },
    {
     "name": "stderr",
     "output_type": "stream",
     "text": [
      " 93%|█████████▎| 936/1008 [31:15<02:24,  2.00s/it, bs=128, d=64, h=768, n=12, seqlen=50] "
     ]
    },
    {
     "name": "stdout",
     "output_type": "stream",
     "text": [
      "Working on 12 64 50\n"
     ]
    },
    {
     "name": "stderr",
     "output_type": "stream",
     "text": [
      " 95%|█████████▌| 960/1008 [32:03<01:36,  2.00s/it, bs=128, d=64, h=768, n=12, seqlen=20]"
     ]
    },
    {
     "name": "stdout",
     "output_type": "stream",
     "text": [
      "Working on 12 64 20\n"
     ]
    },
    {
     "name": "stderr",
     "output_type": "stream",
     "text": [
      " 98%|█████████▊| 984/1008 [32:51<00:48,  2.00s/it, bs=128, d=64, h=768, n=12, seqlen=10]"
     ]
    },
    {
     "name": "stdout",
     "output_type": "stream",
     "text": [
      "Working on 12 64 10\n"
     ]
    },
    {
     "name": "stderr",
     "output_type": "stream",
     "text": [
      "100%|██████████| 1008/1008 [33:39<00:00,  2.00s/it, bs=1, d=64, h=768, n=12, seqlen=10] \n"
     ]
    }
   ],
   "source": [
    "db = []\n",
    "benchmark_qk_init(db, nd_list, seqlen_list, bs_list)\n",
    "data[\"qk_init\"] = db"
   ]
  },
  {
   "cell_type": "code",
   "execution_count": null,
   "id": "26c76e15",
   "metadata": {},
   "outputs": [],
   "source": [
    "db = []\n",
    "benchmark_qk_ar(db, nd_list, seqlen_list, bs_list)\n",
    "data[\"qk_ar\"] = db"
   ]
  },
  {
   "cell_type": "code",
   "execution_count": null,
   "id": "313e36eb",
   "metadata": {},
   "outputs": [],
   "source": [
    "db = []\n",
    "benchmark_dense(db, nd_list, seqlen_list, bs_list)\n",
    "data[\"dense\"] = db"
   ]
  },
  {
   "cell_type": "code",
   "execution_count": null,
   "id": "50c37959",
   "metadata": {},
   "outputs": [],
   "source": [
    "with gzip.open(\"data/20230516-transformer-batching.pkl.gz\", \"wb\") as f:\n",
    "    pickle.dump(data, f)"
   ]
  },
  {
   "cell_type": "code",
   "execution_count": null,
   "id": "828ddb54",
   "metadata": {},
   "outputs": [],
   "source": [
    "df_dense = (\n",
    "    pd.DataFrame.from_dict(data[\"dense\"])\n",
    "    .assign(h=lambda x: x[\"n\"] * x[\"d\"])\n",
    "    .assign(flop=lambda x: (x[\"bs\"] * x[\"seqlen\"] * x[\"h\"]**2) * 2)\n",
    "    .assign(io=lambda x: (x[\"bs\"]*x[\"seqlen\"]*x[\"h\"]*2 + x[\"h\"]**2) * 2)\n",
    "    .assign(intensity=lambda x: x[\"flop\"] / x[\"io\"])\n",
    "    .assign(throughput=lambda x: x[\"bs\"]*x[\"seqlen\"] / x[\"latency\"])\n",
    "    .assign(series=\"dense\")\n",
    ")\n",
    "df_qk_init = (\n",
    "    pd.DataFrame.from_dict(data[\"qk_init\"])\n",
    "    .assign(h=lambda x: x[\"n\"] * x[\"d\"])\n",
    "    .assign(flop=lambda x: (x[\"bs\"]*x[\"n\"]*x[\"d\"]*x[\"seqlen\"]**2) * 2)\n",
    "    .assign(io=lambda x: (x[\"bs\"]*x[\"n\"]*(x[\"seqlen\"]*x[\"d\"]*2 + x[\"seqlen\"]**2)) * 2)\n",
    "    .assign(intensity=lambda x: x[\"flop\"] / x[\"io\"])\n",
    "    .assign(throughput=lambda x: x[\"bs\"]*x[\"seqlen\"] / x[\"latency\"])\n",
    "    .assign(series=\"qk_init\")\n",
    ")\n",
    "df_qk_ar = (\n",
    "    pd.DataFrame.from_dict(data[\"qk_ar\"])\n",
    "    .assign(h=lambda x: x[\"n\"] * x[\"d\"])\n",
    "    .assign(flop=lambda x: (x[\"bs\"]*x[\"n\"]*x[\"d\"]*x[\"seqlen\"]) * 2)\n",
    "    .assign(io=lambda x: (x[\"bs\"]*x[\"n\"]*(x[\"d\"] + x[\"seqlen\"]*x[\"d\"] + x[\"seqlen\"])) * 2)\n",
    "    .assign(intensity=lambda x: x[\"flop\"] / x[\"io\"])\n",
    "    .assign(throughput=lambda x: x[\"bs\"] / x[\"latency\"])\n",
    "    .assign(series=\"qk_ar\")\n",
    ")\n",
    "pd.concat([df_dense, df_qk_init, df_qk_ar]).to_csv(\"data/transformer-batching-microbenchmarks.csv\", index=False)"
   ]
  },
  {
   "cell_type": "code",
   "execution_count": null,
   "id": "fc92f940",
   "metadata": {},
   "outputs": [],
   "source": [
    "opt_config = optcfg[\"6.7b\"]\n",
    "\n",
    "torch.set_default_dtype(torch.bfloat16)\n",
    "with transformers.modeling_utils.no_init_weights():\n",
    "    model = transformers.models.opt.OPTForCausalLM(opt_config).to(\"cuda\")\n",
    "torch.set_default_dtype(torch.float32)"
   ]
  },
  {
   "cell_type": "code",
   "execution_count": null,
   "id": "c19fa396",
   "metadata": {},
   "outputs": [],
   "source": [
    "db = {}\n",
    "input_tokens = 200\n",
    "new_tokens = 500\n",
    "for bs in tqdm(list(itertools.chain(range(1, 8), range(8, 16, 2), [16]))):\n",
    "    x = torch.randint(1000, 10000, (bs, input_tokens), device=model.device)\n",
    "    stack = []\n",
    "    for _ in range(10):\n",
    "        l = time_greedy_generate(model, x, new_tokens=new_tokens)\n",
    "        stack.append(l)\n",
    "    db[bs] = np.median(np.stack(stack), axis=0)\n",
    "    del x\n",
    "    torch.cuda.empty_cache()\n",
    "del model\n",
    "torch.cuda.empty_cache()\n",
    "\n",
    "with gzip.open(\"data/20230516-e2e-text-generation-batch.pkl.gz\", \"wb\") as f:\n",
    "    pickle.dump(db, f)"
   ]
  }
 ],
 "metadata": {
  "kernelspec": {
   "display_name": "Python 3 (ipykernel)",
   "language": "python",
   "name": "python3"
  },
  "language_info": {
   "codemirror_mode": {
    "name": "ipython",
    "version": 3
   },
   "file_extension": ".py",
   "mimetype": "text/x-python",
   "name": "python",
   "nbconvert_exporter": "python",
   "pygments_lexer": "ipython3",
   "version": "3.11.3"
  }
 },
 "nbformat": 4,
 "nbformat_minor": 5
}
