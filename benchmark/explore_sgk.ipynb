{
 "cells": [
  {
   "cell_type": "markdown",
   "metadata": {},
   "source": [
    "# Instructions\n",
    "Use intrasm_engine/benchmark/setup_sgk_dlmc.sh SGK deep learning matrix collection to set up the data at intrasm_engine/data/sgk_dlmc/dlmc\n",
    "\n",
    "## Reference\n",
    " https://storage.googleapis.com/sgk-sc2020/dlmc.tar.gz"
   ]
  },
  {
   "cell_type": "code",
   "execution_count": 1,
   "metadata": {},
   "outputs": [
    {
     "name": "stdout",
     "output_type": "stream",
     "text": [
      "kwu/cupy-playground/intrasm_engine/benchmark/explore_sgk.ipynb\n"
     ]
    }
   ],
   "source": [
    "# Get notebook path. This only works in vscode Jupyter notebooks.\n",
    "import IPython\n",
    "notebook_name = \"/\" + \"/\".join(\n",
    "        IPython.extract_module_locals()[1][\"__vsc_ipynb_file__\"].split(\"/\")[-5:]\n",
    "    )\n",
    "print(notebook_name)"
   ]
  },
  {
   "cell_type": "code",
   "execution_count": 1,
   "metadata": {},
   "outputs": [
    {
     "name": "stdout",
     "output_type": "stream",
     "text": [
      "Print handle to force cublas initialization (otherwise first matmul captured in the graph may fail): 141998144\n",
      "Setting float16 and bf16 using reduced precision in reduction\n"
     ]
    }
   ],
   "source": [
    "import intrasm_engine"
   ]
  },
  {
   "cell_type": "code",
   "execution_count": null,
   "metadata": {},
   "outputs": [],
   "source": [
    "import scipy.io\n",
    "# Scipy load mtx a.mtx\n",
    "a = scipy.io.mmread('a.mtx')"
   ]
  }
 ],
 "metadata": {
  "kernelspec": {
   "display_name": "dev_cupy_graph",
   "language": "python",
   "name": "python3"
  },
  "language_info": {
   "codemirror_mode": {
    "name": "ipython",
    "version": 3
   },
   "file_extension": ".py",
   "mimetype": "text/x-python",
   "name": "python",
   "nbconvert_exporter": "python",
   "pygments_lexer": "ipython3",
   "version": "3.11.3"
  }
 },
 "nbformat": 4,
 "nbformat_minor": 2
}
