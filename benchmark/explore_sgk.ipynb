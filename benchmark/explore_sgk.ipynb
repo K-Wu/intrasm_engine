{
 "cells": [
  {
   "cell_type": "markdown",
   "metadata": {},
   "source": [
    "# Instructions\n",
    "1. Use intrasm_engine/benchmark/setup_sgk_dlmc.sh [SGK deep learning matrix collection](https://storage.googleapis.com/sgk-sc2020/dlmc.tar.gz) to set up the data at intrasm_engine/data/sgk_dlmc/dlmc\n",
    "2. Use intrasm_engine/benchmark/utils.py \\_\\_main\\_\\_ to convert DLMC SMTX files to MTX files.\n",
    "\n",
    "Use intrasm_engine/benchmark/setup_sksparse_data.sh [SKSparse test data](https://github.com/scikit-sparse/scikit-sparse) to set up the data at intrasm_engine/data/sksparse"
   ]
  },
  {
   "cell_type": "markdown",
   "metadata": {},
   "source": [
    "# Configurations"
   ]
  },
  {
   "cell_type": "code",
   "execution_count": 1,
   "metadata": {},
   "outputs": [
    {
     "name": "stdout",
     "output_type": "stream",
     "text": [
      "/home/kwu/cupy-playground/intrasm_engine/data/sgk_dlmc\n"
     ]
    }
   ],
   "source": [
    "import os\n",
    "import scipy.io\n",
    "import matplotlib.pyplot as plt\n",
    "import IPython\n",
    "# Get notebook path. This only works in linux and vscode Jupyter notebooks.\n",
    "notebook_path = \"/home/\" + \"/\".join(\n",
    "        IPython.extract_module_locals()[1][\"__vsc_ipynb_file__\"].split(\"/\")[-5:]\n",
    "    )\n",
    "sgk_data_path = os.path.join(os.path.dirname(os.path.dirname(notebook_path)),'data','sgk_dlmc')\n",
    "print(sgk_data_path)"
   ]
  },
  {
   "cell_type": "code",
   "execution_count": 2,
   "metadata": {},
   "outputs": [
    {
     "name": "stdout",
     "output_type": "stream",
     "text": [
      "Print handle to force cublas initialization (otherwise first matmul captured in the graph may fail): 151648960\n",
      "Setting float16 and bf16 using reduced precision in reduction\n"
     ]
    }
   ],
   "source": [
    "import intrasm_engine"
   ]
  },
  {
   "cell_type": "markdown",
   "metadata": {},
   "source": [
    "# Apply Bandwidth reducing permutation to SGK"
   ]
  },
  {
   "cell_type": "code",
   "execution_count": 3,
   "metadata": {},
   "outputs": [
    {
     "name": "stdout",
     "output_type": "stream",
     "text": [
      "/home/kwu/cupy-playground/intrasm_engine/data/sgk_dlmc\n",
      "/home/kwu/cupy-playground/intrasm_engine/data/sgk_dlmc ['dlmc'] []\n",
      "/home/kwu/cupy-playground/intrasm_engine/data/sgk_dlmc/dlmc ['rn50', 'transformer'] ['rn50_batchsizes.txt', 'dlmc.csv', 'rn50_matrices.txt', 'README', 'transformer_matrices.txt']\n",
      "/home/kwu/cupy-playground/intrasm_engine/data/sgk_dlmc/dlmc/rn50 ['random_pruning', 'variational_dropout', 'magnitude_pruning', 'extended_magnitude_pruning'] []\n",
      "/home/kwu/cupy-playground/intrasm_engine/data/sgk_dlmc/dlmc/rn50/random_pruning ['0.5', '0.8', '0.98', '0.95', '0.9', '0.7'] []\n",
      "/home/kwu/cupy-playground/intrasm_engine/data/sgk_dlmc/dlmc/rn50/random_pruning/0.5 [] ['bottleneck_3_block_group_projection_block_group1.smtx', 'bottleneck_2_block_group3_2_1.mtx', 'bottleneck_3_block_group_projection_block_group3.smtx', 'bottleneck_2_block_group2_1_1.mtx', 'bottleneck_2_block_group3_3_1.mtx', 'bottleneck_projection_block_group_projection_block_group3.mtx', 'bottleneck_1_block_group3_3_1.mtx', 'bottleneck_2_block_group1_1_1.mtx', 'bottleneck_3_block_group2_1_1.mtx', 'bottleneck_1_block_group1_1_1.mtx', 'bottleneck_1_block_group4_2_1.mtx', 'bottleneck_2_block_group2_3_1.smtx', 'bottleneck_2_block_group_projection_block_group4.mtx', 'bottleneck_1_block_group2_3_1.smtx', 'bottleneck_3_block_group1_1_1.mtx', 'bottleneck_1_block_group_projection_block_group4.smtx', 'bottleneck_1_block_group4_1_1.smtx', 'bottleneck_1_block_group_projection_block_group4.mtx', 'bottleneck_3_block_group_projection_block_group1.mtx', 'bottleneck_1_block_group_projection_block_group1.mtx', 'bottleneck_3_block_group3_1_1.smtx', 'initial_conv.smtx', 'bottleneck_2_block_group3_1_1.mtx', 'bottleneck_1_block_group3_1_1.mtx', 'bottleneck_3_block_group3_4_1.mtx', 'final_dense.smtx', 'bottleneck_3_block_group3_4_1.smtx', 'bottleneck_3_block_group_projection_block_group4.smtx', 'bottleneck_2_block_group3_4_1.mtx', 'bottleneck_1_block_group3_1_1.smtx', 'bottleneck_1_block_group3_2_1.mtx', 'bottleneck_projection_block_group_projection_block_group1.smtx', 'bottleneck_projection_block_group_projection_block_group4.mtx', 'bottleneck_1_block_group2_2_1.smtx', 'bottleneck_1_block_group2_3_1.mtx', 'bottleneck_2_block_group_projection_block_group2.smtx', 'bottleneck_projection_block_group_projection_block_group4.smtx', 'bottleneck_2_block_group4_1_1.mtx', 'bottleneck_1_block_group_projection_block_group3.smtx', 'bottleneck_3_block_group4_2_1.mtx', 'bottleneck_2_block_group3_1_1.smtx', 'bottleneck_2_block_group2_2_1.mtx', 'bottleneck_2_block_group3_5_1.mtx', 'bottleneck_1_block_group1_2_1.mtx', 'bottleneck_3_block_group3_5_1.smtx', 'bottleneck_3_block_group4_1_1.smtx', 'bottleneck_3_block_group_projection_block_group2.mtx', 'bottleneck_1_block_group3_5_1.mtx', 'bottleneck_3_block_group1_1_1.smtx', 'bottleneck_1_block_group1_2_1.smtx', 'bottleneck_3_block_group2_1_1.smtx', 'bottleneck_1_block_group3_4_1.smtx', 'bottleneck_2_block_group3_5_1.smtx', 'bottleneck_3_block_group2_3_1.mtx', 'bottleneck_3_block_group2_3_1.smtx', 'bottleneck_projection_block_group_projection_block_group3.smtx', 'bottleneck_2_block_group1_2_1.mtx', 'bottleneck_1_block_group3_5_1.smtx', 'bottleneck_1_block_group3_2_1.smtx', 'final_dense.mtx', 'bottleneck_projection_block_group_projection_block_group2.mtx', 'bottleneck_1_block_group_projection_block_group2.smtx', 'bottleneck_3_block_group_projection_block_group2.smtx', 'bottleneck_1_block_group4_2_1.smtx', 'bottleneck_2_block_group_projection_block_group1.mtx', 'bottleneck_3_block_group2_2_1.smtx', 'bottleneck_2_block_group2_2_1.smtx', 'bottleneck_2_block_group4_1_1.smtx', 'bottleneck_2_block_group3_3_1.smtx', 'bottleneck_1_block_group3_3_1.smtx', 'bottleneck_2_block_group_projection_block_group3.mtx', 'bottleneck_1_block_group2_1_1.mtx', 'bottleneck_1_block_group_projection_block_group2.mtx', 'bottleneck_2_block_group4_2_1.mtx', 'bottleneck_projection_block_group_projection_block_group1.mtx', 'bottleneck_3_block_group3_2_1.mtx', 'bottleneck_1_block_group3_4_1.mtx', 'bottleneck_1_block_group_projection_block_group3.mtx', 'bottleneck_1_block_group2_2_1.mtx', 'bottleneck_2_block_group1_2_1.smtx', 'bottleneck_3_block_group1_2_1.smtx', 'bottleneck_3_block_group4_2_1.smtx', 'bottleneck_2_block_group_projection_block_group2.mtx', 'bottleneck_2_block_group3_4_1.smtx', 'bottleneck_2_block_group_projection_block_group1.smtx', 'bottleneck_3_block_group3_3_1.smtx', 'bottleneck_1_block_group_projection_block_group1.smtx', 'initial_conv.mtx', 'bottleneck_3_block_group3_3_1.mtx', 'bottleneck_2_block_group_projection_block_group3.smtx', 'bottleneck_3_block_group2_2_1.mtx', 'bottleneck_2_block_group_projection_block_group4.smtx', 'bottleneck_3_block_group3_2_1.smtx', 'bottleneck_3_block_group3_1_1.mtx', 'bottleneck_2_block_group3_2_1.smtx', 'bottleneck_2_block_group4_2_1.smtx', 'bottleneck_1_block_group4_1_1.mtx', 'bottleneck_1_block_group2_1_1.smtx', 'bottleneck_2_block_group2_3_1.mtx', 'bottleneck_1_block_group1_1_1.smtx', 'bottleneck_3_block_group4_1_1.mtx', 'bottleneck_2_block_group1_1_1.smtx', 'bottleneck_3_block_group1_2_1.mtx', 'bottleneck_projection_block_group_projection_block_group2.smtx', 'bottleneck_2_block_group2_1_1.smtx', 'bottleneck_3_block_group3_5_1.mtx', 'bottleneck_3_block_group_projection_block_group4.mtx', 'bottleneck_3_block_group_projection_block_group3.mtx']\n",
      "/home/kwu/cupy-playground/intrasm_engine/data/sgk_dlmc/dlmc/rn50/random_pruning/0.5/bottleneck_2_block_group3_2_1.mtx\n"
     ]
    },
    {
     "name": "stderr",
     "output_type": "stream",
     "text": [
      "/home/kwu/cupy-playground/intrasm_engine/benchmark/bandwidth_reducing_examples.py:60: CholmodTypeConversionWarning: converting matrix of class coo_matrix to CSC format\n",
      "  factor = cholesky_AAt(mat_coo, mode=modes[0])\n",
      "/home/kwu/cupy-playground/intrasm_engine/benchmark/bandwidth_reducing_examples.py:61: CholmodTypeConversionWarning: converting matrix of class coo_matrix to CSC format\n",
      "  factorT = cholesky_AAt(mat_coo.T, mode=modes[0])\n"
     ]
    },
    {
     "ename": "NameError",
     "evalue": "name 'X' is not defined",
     "output_type": "error",
     "traceback": [
      "\u001b[0;31m---------------------------------------------------------------------------\u001b[0m",
      "\u001b[0;31mNameError\u001b[0m                                 Traceback (most recent call last)",
      "Cell \u001b[0;32mIn[3], line 10\u001b[0m\n\u001b[1;32m      8\u001b[0m \u001b[38;5;66;03m# Scipy load mtx \u001b[39;00m\n\u001b[1;32m      9\u001b[0m mat \u001b[38;5;241m=\u001b[39m scipy\u001b[38;5;241m.\u001b[39mio\u001b[38;5;241m.\u001b[39mmmread(os\u001b[38;5;241m.\u001b[39mpath\u001b[38;5;241m.\u001b[39mjoin(root, file))\n\u001b[0;32m---> 10\u001b[0m mat_rcm \u001b[38;5;241m=\u001b[39m \u001b[43mbandwidth_reducing_examples\u001b[49m\u001b[38;5;241;43m.\u001b[39;49m\u001b[43mapply_cholmod\u001b[49m\u001b[43m(\u001b[49m\u001b[43mmat\u001b[49m\u001b[43m)\u001b[49m\n\u001b[1;32m     11\u001b[0m \u001b[38;5;66;03m# mat_rcm = bandwidth_reducing_examples.apply_reverse_chthill_mckee_AAt(mat)\u001b[39;00m\n\u001b[1;32m     12\u001b[0m fig \u001b[38;5;241m=\u001b[39m plt\u001b[38;5;241m.\u001b[39mfigure()\n",
      "File \u001b[0;32m~/cupy-playground/intrasm_engine/benchmark/bandwidth_reducing_examples.py:64\u001b[0m, in \u001b[0;36mapply_cholmod\u001b[0;34m(mat_coo)\u001b[0m\n\u001b[1;32m     62\u001b[0m permute \u001b[38;5;241m=\u001b[39m factor\u001b[38;5;241m.\u001b[39mP()\n\u001b[1;32m     63\u001b[0m permuteT \u001b[38;5;241m=\u001b[39m factorT\u001b[38;5;241m.\u001b[39mP()\n\u001b[0;32m---> 64\u001b[0m X_p \u001b[38;5;241m=\u001b[39m \u001b[43mX\u001b[49m[permute, permuteT]\n\u001b[1;32m     65\u001b[0m \u001b[38;5;28;01mreturn\u001b[39;00m X_p\n",
      "\u001b[0;31mNameError\u001b[0m: name 'X' is not defined"
     ]
    }
   ],
   "source": [
    "from benchmark import utils_bandwidth_reducing\n",
    "print(sgk_data_path)\n",
    "for root, dirs, files in os.walk(sgk_data_path):\n",
    "    print(root, dirs, files)\n",
    "    for file in files:\n",
    "        if file.endswith(\".mtx\"):\n",
    "            print(os.path.join(root, file))\n",
    "            # Scipy load mtx \n",
    "            mat = scipy.io.mmread(os.path.join(root, file))\n",
    "            # mat_rcm = utils_bandwidth_reducing.apply_cholmod(mat)\n",
    "            mat_rcm = utils_bandwidth_reducing.apply_reverse_chthill_mckee_AAt(mat)\n",
    "            fig = plt.figure()\n",
    "            ax1 = fig.add_subplot(1, 2, 1)\n",
    "            ax1.spy(mat,markersize=1.0)\n",
    "            # ax1.set_xticks([0, mat.shape[1]/2, mat.shape[1]])\n",
    "            # ax1.set_yticks([0, mat.shape[0]/2, mat.shape[0]])\n",
    "            ax2 = fig.add_subplot(1, 2, 2)\n",
    "            ax2.spy(mat_rcm,markersize=1.0)\n",
    "            # ax2.set_xticks([0, mat.shape[1]/2, mat.shape[1]])\n",
    "            # ax2.set_yticks([0, mat.shape[0]/2, mat.shape[0]])\n",
    "            plt.show()"
   ]
  }
 ],
 "metadata": {
  "kernelspec": {
   "display_name": "dev_cupy_graph",
   "language": "python",
   "name": "python3"
  },
  "language_info": {
   "codemirror_mode": {
    "name": "ipython",
    "version": 3
   },
   "file_extension": ".py",
   "mimetype": "text/x-python",
   "name": "python",
   "nbconvert_exporter": "python",
   "pygments_lexer": "ipython3",
   "version": "3.11.3"
  }
 },
 "nbformat": 4,
 "nbformat_minor": 2
}
